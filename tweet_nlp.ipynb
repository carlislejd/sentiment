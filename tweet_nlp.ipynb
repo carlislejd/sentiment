{
 "cells": [
  {
   "cell_type": "code",
   "execution_count": null,
   "metadata": {},
   "outputs": [],
   "source": [
    "import emoji\n",
    "import tweepy\n",
    "import tweetnlp\n",
    "import pandas as pd\n",
    "from os import getenv\n",
    "from dotenv import load_dotenv\n",
    "\n",
    "from helper import tweet_history, strip_all_entities, clean_hashtags, filter_chars, remove_mult_spaces\n",
    "\n",
    "load_dotenv()\n",
    "pd.set_option('display.expand_frame_repr', False)\n",
    "\n",
    "auth = tweepy.OAuthHandler(getenv('TWITTER_API_KEY'), getenv('TWITTER_API_KEY_SECRET'))\n",
    "auth.set_access_token(getenv('TWITTER_ACCESS_TOKEN'), getenv('TWITTER_ACCESS_TOKEN_SECRET'))\n",
    "api = tweepy.API(auth, wait_on_rate_limit=True, parser=tweepy.parsers.JSONParser())\n",
    "\n",
    "client = tweepy.Client(bearer_token=getenv('TWITTER_BEARER_TOKEN'), access_token=getenv('TWITTER_ACCESS_TOKEN'), )\n",
    "\n",
    "model_sentiment = tweetnlp.load_model('sentiment', multilingual=True) \n",
    "model_emotion = tweetnlp.load_model('emotion') "
   ]
  },
  {
   "cell_type": "code",
   "execution_count": 3,
   "metadata": {},
   "outputs": [],
   "source": [
    "def check_replys(tweet_ID):\n",
    "    query = f\"conversation_id:{tweet_ID} is:reply\"\n",
    "    replys = client.search_recent_tweets(query=query)\n",
    "    return replys\n",
    "\n",
    "def clean_text(text):\n",
    "    return remove_mult_spaces(filter_chars(clean_hashtags(strip_all_entities(emoji.demojize(text)))))"
   ]
  },
  {
   "cell_type": "code",
   "execution_count": 4,
   "metadata": {},
   "outputs": [],
   "source": [
    "user_name = 'BuildOnBase'"
   ]
  },
  {
   "cell_type": "code",
   "execution_count": 5,
   "metadata": {},
   "outputs": [],
   "source": [
    "df = tweet_history(user_name, 10, client, api)\n",
    "\n",
    "tweets = []\n",
    "for tid in df['tweet_id']:\n",
    "    tid_tweet = check_replys(tid)\n",
    "    tweet = tid_tweet._asdict()\n",
    "    tweet['tid'] = tid  # add tid to tweet dictionary\n",
    "    tweets.append(tweet)\n",
    "\n",
    "maybe = []\n",
    "for t in tweets:\n",
    "    if t['data'] != None:\n",
    "        random = t['data']\n",
    "        temp_df = pd.DataFrame(random)\n",
    "        temp_df['original_id'] = t['tid']\n",
    "        maybe.append(temp_df)\n",
    "\n",
    "reduce = pd.concat(maybe, ignore_index=True)\n",
    "reduce['id'] = reduce['id'].astype(str)\n",
    "reduce['original_id'] = reduce['original_id'].astype(str)\n",
    "\n",
    "combined = pd.merge(df, reduce, left_on='tweet_id', right_on='original_id', how='left')\n",
    "combined = combined[~combined['id'].isnull()].copy()\n",
    "\n",
    "combined['text_cleaned'] = combined['text'].apply(clean_text)\n",
    "combined = combined[combined['text_cleaned'] != ''].copy()\n",
    "\n",
    "combined['sentiment'] = combined['text_cleaned'].apply(model_sentiment.sentiment)\n",
    "combined['emotion'] = combined['text_cleaned'].apply(model_emotion.emotion)"
   ]
  }
 ],
 "metadata": {
  "kernelspec": {
   "display_name": "Python 3",
   "language": "python",
   "name": "python3"
  },
  "language_info": {
   "codemirror_mode": {
    "name": "ipython",
    "version": 3
   },
   "file_extension": ".py",
   "mimetype": "text/x-python",
   "name": "python",
   "nbconvert_exporter": "python",
   "pygments_lexer": "ipython3",
   "version": "3.10.0"
  },
  "orig_nbformat": 4,
  "vscode": {
   "interpreter": {
    "hash": "e593ac106456af50ce7af38f9671c411b49d6cd90f9b885e167f0f594e09038c"
   }
  }
 },
 "nbformat": 4,
 "nbformat_minor": 2
}
