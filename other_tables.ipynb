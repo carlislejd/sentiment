{
 "cells": [
  {
   "cell_type": "code",
   "execution_count": 1,
   "metadata": {},
   "outputs": [
    {
     "name": "stderr",
     "output_type": "stream",
     "text": [
      "c:\\Users\\PC\\AppData\\Local\\Programs\\Python\\Python310\\lib\\site-packages\\tqdm\\auto.py:22: TqdmWarning: IProgress not found. Please update jupyter and ipywidgets. See https://ipywidgets.readthedocs.io/en/stable/user_install.html\n",
      "  from .autonotebook import tqdm as notebook_tqdm\n"
     ]
    }
   ],
   "source": [
    "import tweepy\n",
    "import emoji\n",
    "import pandas as pd\n",
    "from os import getenv\n",
    "\n",
    "from transformers import pipeline\n",
    "from helper import tweet_history, strip_all_entities, clean_hashtags, filter_chars, remove_mult_spaces\n",
    "\n",
    "\n",
    "SENTIMENT_MODEL = \"./sentiment_model\"\n",
    "SENTIMENT_TOKENIZER = \"./sentiment_tokenizer\"\n",
    "\n",
    "EMOTION_MODEL = \"./emotion_model\"\n",
    "EMOTION_TOKENIZER = \"./emotion_tokenizer\"\n",
    "\n",
    "\n",
    "sentiment_pipe = pipeline(task=\"sentiment-analysis\", model=SENTIMENT_MODEL, tokenizer=SENTIMENT_TOKENIZER)\n",
    "emotion_pipe = pipeline(task=\"sentiment-analysis\", model=EMOTION_MODEL, tokenizer=EMOTION_TOKENIZER)\n",
    "\n",
    "\n",
    "auth = tweepy.OAuthHandler(getenv('TWITTER_API_KEY'), getenv('TWITTER_API_KEY_SECRET'))\n",
    "auth.set_access_token(getenv('TWITTER_ACCESS_TOKEN'), getenv('TWITTER_ACCESS_TOKEN_SECRET'))\n",
    "api = tweepy.API(auth, wait_on_rate_limit=True, parser=tweepy.parsers.JSONParser())\n",
    "\n",
    "client = tweepy.Client(bearer_token=getenv('TWITTER_BEARER_TOKEN'), access_token=getenv('TWITTER_ACCESS_TOKEN')) "
   ]
  },
  {
   "cell_type": "code",
   "execution_count": null,
   "metadata": {},
   "outputs": [],
   "source": [
    "def clean_text(text):\n",
    "    return remove_mult_spaces(filter_chars(clean_hashtags(strip_all_entities(emoji.demojize(text)))))"
   ]
  },
  {
   "cell_type": "code",
   "execution_count": null,
   "metadata": {},
   "outputs": [],
   "source": [
    "user_name = 'Tearing_Spaces'\n",
    "user_id = api.get_user(screen_name=user_name)['id']\n",
    "results = client.get_users_mentions(id=user_id, start_time='2023-09-05T00:00:00Z', end_time='2023-09-06T00:00:00Z', expansions=['author_id', 'referenced_tweets.id'], user_fields=['id', 'name', 'username'], tweet_fields=['created_at'], max_results=100)\n",
    "\n",
    "\n",
    "tweets_data = [{'tweet_id': tweet.id, 'text': tweet.text, 'created_at': tweet.created_at} for tweet in results.data]\n",
    "\n",
    "users_data = [{'user_id': user.id, 'name': user.name, 'username': user.username} for user in results.includes['users']]\n",
    "\n",
    "combined_data = []\n",
    "for tweet, user in zip(tweets_data, users_data):\n",
    "    combined_data.append({**tweet, **user})\n",
    "\n",
    "df = pd.DataFrame(combined_data)\n",
    "\n",
    "df['text_cleaned'] = df['text'].apply(clean_text)\n",
    "df['sentiment'] = df['text_cleaned'].apply(lambda x: sentiment_pipe(x))\n",
    "df['emotion'] = df['text_cleaned'].apply(lambda x: emotion_pipe(x))\n",
    "df"
   ]
  },
  {
   "cell_type": "code",
   "execution_count": null,
   "metadata": {},
   "outputs": [],
   "source": [
    "space = '1OwxWwXEqWDxQ'\n",
    "results = client.get_space(id=space, expansions=['creator_id', 'invited_user_ids', 'speaker_ids', 'host_ids', 'topic_ids'], user_fields=['created_at'], space_fields=['participant_count', 'started_at', 'title', 'invited_user_ids'])\n",
    "\n",
    "results_dict = results._asdict()\n",
    "\n",
    "print(f'Participants: {results_dict[\"data\"][\"participant_count\"]}')\n",
    "\n",
    "users_data = results_dict.get('includes', {}).get('users', [])\n",
    "users_list = [{'id': user.id, 'name': user.name, 'username': user.username} for user in users_data]\n",
    "df = pd.DataFrame(users_list)\n",
    "df\n"
   ]
  }
 ],
 "metadata": {
  "kernelspec": {
   "display_name": "Python 3",
   "language": "python",
   "name": "python3"
  },
  "language_info": {
   "codemirror_mode": {
    "name": "ipython",
    "version": 3
   },
   "file_extension": ".py",
   "mimetype": "text/x-python",
   "name": "python",
   "nbconvert_exporter": "python",
   "pygments_lexer": "ipython3",
   "version": "3.10.0"
  },
  "orig_nbformat": 4
 },
 "nbformat": 4,
 "nbformat_minor": 2
}
